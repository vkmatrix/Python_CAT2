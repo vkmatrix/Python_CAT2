{
 "cells": [
  {
   "cell_type": "markdown",
   "id": "22a0ea0b",
   "metadata": {},
   "source": [
    "# CAT-II ASSIGNMENT(INHERITANCE,EXCEPTION HANDLING & NUMPY)"
   ]
  },
  {
   "cell_type": "markdown",
   "id": "71fd1af2",
   "metadata": {},
   "source": [
    "# INHERITANCE IN PYTHON\n",
    "\n"
   ]
  },
  {
   "cell_type": "markdown",
   "id": "d218ae16",
   "metadata": {},
   "source": [
    "# SINGLE INHERITANCE\n"
   ]
  },
  {
   "cell_type": "code",
   "execution_count": 46,
   "id": "ed727665",
   "metadata": {},
   "outputs": [
    {
     "name": "stdout",
     "output_type": "stream",
     "text": [
      "NAME: VK\n",
      "INCOME 100000000\n",
      "I AM HR CLASS\n"
     ]
    }
   ],
   "source": [
    "# single inheritance using protected access modifier\n",
    "class emp:\n",
    "    def __init__(self,name,income):\n",
    "        #protected data members initialization\n",
    "        self._name=name\n",
    "        self._income=income\n",
    "class hr(emp):\n",
    "    def display(self):\n",
    "        print(\"NAME:\",self._name)\n",
    "        print(\"INCOME\",self._income)\n",
    "    def dec(self):\n",
    "        print('I AM HR CLASS')\n",
    "hrobj=hr('VK',100000000)\n",
    "hrobj.display()\n",
    "hrobj.dec()"
   ]
  },
  {
   "cell_type": "markdown",
   "id": "59b3bdc1",
   "metadata": {},
   "source": [
    "# MULTI-LEVEL INHERITANCE"
   ]
  },
  {
   "cell_type": "code",
   "execution_count": 1,
   "id": "e6ae729f",
   "metadata": {},
   "outputs": [
    {
     "name": "stdout",
     "output_type": "stream",
     "text": [
      "mr_hacker \n",
      " 18\n"
     ]
    }
   ],
   "source": [
    "class gfather:\n",
    "    gfname='mr_hacker'\n",
    "    gfage=18\n",
    "class father(gfather):\n",
    "    fname='master_hacker'\n",
    "    fage=5\n",
    "class son(father):\n",
    "    sname='baby_hacker'\n",
    "    sage=1\n",
    "sobj=son()\n",
    "print(sobj.gfname,\"\\n\",sobj.gfage)\n"
   ]
  },
  {
   "cell_type": "markdown",
   "id": "51fc6d01",
   "metadata": {},
   "source": [
    "# MULTIPLE INHERITANCE"
   ]
  },
  {
   "cell_type": "code",
   "execution_count": 9,
   "id": "2506f9c9",
   "metadata": {},
   "outputs": [
    {
     "name": "stdout",
     "output_type": "stream",
     "text": [
      "FATHER DETAILS:\n",
      "mr_hacker \n",
      " 18\n",
      "\n",
      "\n",
      "MOTHER DETAILS:\n",
      "mrs_hacker \n",
      " 13\n"
     ]
    }
   ],
   "source": [
    "class father:\n",
    "    fname='mr_hacker'\n",
    "    fage=18\n",
    "class mother:\n",
    "    mname='mrs_hacker'\n",
    "    mage=13\n",
    "class son(father,mother):\n",
    "    sname='master_hacker'\n",
    "    sage=5\n",
    "sobj=son()\n",
    "print(\"FATHER DETAILS:\")\n",
    "print(sobj.fname,\"\\n\",sobj.fage)\n",
    "print(\"\\n\")\n",
    "print(\"MOTHER DETAILS:\")\n",
    "print(sobj.mname,\"\\n\",sobj.mage)"
   ]
  },
  {
   "cell_type": "markdown",
   "id": "e3a708d8",
   "metadata": {},
   "source": [
    "# HEIRARCHIAL INHERITANCE"
   ]
  },
  {
   "cell_type": "code",
   "execution_count": 14,
   "id": "4647d064",
   "metadata": {},
   "outputs": [
    {
     "name": "stdout",
     "output_type": "stream",
     "text": [
      "298 \n",
      " XYZ ENGINEERING COLLEGE\n"
     ]
    }
   ],
   "source": [
    "class university:\n",
    "    uid=100\n",
    "    uname=\"XYZ UNIVERSITY(AUTONOMOUS)\"\n",
    "class arts(university):\n",
    "    aid=198\n",
    "    aname=\"XYZ SCHOOL OF ARTS & SCIENCE\"\n",
    "class engg(university):\n",
    "    eid=298\n",
    "    ename=\"XYZ ENGINEERING COLLEGE\"\n",
    "class medical(university):\n",
    "    mid=398\n",
    "    mname=\"XYZ MEDICAL COLLEGE & HOSPITAL\"\n",
    "class arch(university):\n",
    "    arid=498\n",
    "    arname=\"XYZ SCHOOL OF ARCHITECTURE\"\n",
    "eobj=engg()\n",
    "print(eobj.eid,\"\\n\",eobj.ename)\n"
   ]
  },
  {
   "cell_type": "markdown",
   "id": "7e00f0da",
   "metadata": {},
   "source": [
    "# HYBRID INHERITANCE"
   ]
  },
  {
   "cell_type": "code",
   "execution_count": null,
   "id": "b6b7c5f6",
   "metadata": {},
   "outputs": [],
   "source": [
    "class gfather:\n",
    "    def __init__(self,gfname):\n",
    "        self.gfname=gfname\n",
    "class father(gfather):    \n",
    "    def __init__(self,fname):\n",
    "        self.fname=fname\n",
    "class mother:\n",
    "    def __init__(self,mname):\n",
    "        self.mname=mname;\n",
    "class son(gfather,father,mother):\n",
    "    def __init__(self,sname):\n",
    "        self.sname=sname\n",
    "#here gfather inherits father and father in turn inherits son so ,all the 3 classes follow multi-level inheritance.\n",
    "#in another way we interpret that son's inheritance also involves mother.\n",
    "#so in another way son is multiple inherutance more than one class(ie., father and mother)\n",
    "\n",
    "\n",
    "\n",
    "#the above inheritance involves more than one type of inheritance then this inheritance is called as HYBRID INHERITANCE."
   ]
  },
  {
   "cell_type": "markdown",
   "id": "5a1af615",
   "metadata": {},
   "source": [
    "# ACCESS MODIFIERS"
   ]
  },
  {
   "cell_type": "code",
   "execution_count": 2,
   "id": "1f86ba5b",
   "metadata": {},
   "outputs": [
    {
     "ename": "AttributeError",
     "evalue": "'emp' object has no attribute '__eid'",
     "output_type": "error",
     "traceback": [
      "\u001b[1;31m---------------------------------------------------------------------------\u001b[0m",
      "\u001b[1;31mAttributeError\u001b[0m                            Traceback (most recent call last)",
      "Input \u001b[1;32mIn [2]\u001b[0m, in \u001b[0;36m<cell line: 7>\u001b[1;34m()\u001b[0m\n\u001b[0;32m      5\u001b[0m         \u001b[38;5;28mself\u001b[39m\u001b[38;5;241m.\u001b[39m__name\u001b[38;5;241m=\u001b[39mname\n\u001b[0;32m      6\u001b[0m e1\u001b[38;5;241m=\u001b[39memp(\u001b[38;5;241m1\u001b[39m,\u001b[38;5;124m'\u001b[39m\u001b[38;5;124mHR\u001b[39m\u001b[38;5;124m'\u001b[39m)\n\u001b[1;32m----> 7\u001b[0m \u001b[43me1\u001b[49m\u001b[38;5;241;43m.\u001b[39;49m\u001b[43m__eid\u001b[49m\n",
      "\u001b[1;31mAttributeError\u001b[0m: 'emp' object has no attribute '__eid'"
     ]
    }
   ],
   "source": [
    "#private inheritance\n",
    "class emp:\n",
    "    def __init__(self,eid,name):\n",
    "        self.__eid=eid\n",
    "        self.__name=name\n",
    "e1=emp(1,'HR')\n",
    "e1.__eid\n",
    "# hence private members cannot be accessed outside the class"
   ]
  },
  {
   "cell_type": "code",
   "execution_count": 3,
   "id": "af78276d",
   "metadata": {},
   "outputs": [
    {
     "name": "stdout",
     "output_type": "stream",
     "text": [
      "I AM USED ONLY FOR OBJECT DECLARATION\n",
      "name: VK\n",
      "role: FOUNDER\n"
     ]
    }
   ],
   "source": [
    "#private data members initialization\n",
    "class emp:\n",
    "    def __init__(self,emid,name):\n",
    "        self.__eid=emid #.__ is used for private datamember initialization\n",
    "        self.__ename=name\n",
    "e1=emp(1,\"VK\")\n",
    "\n",
    "# protected data members initialization\n",
    "class job:\n",
    "    def __init__(self,name,role):\n",
    "        self._name=name # ._ is used for initializing data members in protected mode\n",
    "        self._role=role\n",
    "    def displaydata(self):\n",
    "        print(\"name:\",self._name)\n",
    "        print(\"role:\",self._role)\n",
    "class hr(job):\n",
    "    print(\"I AM USED ONLY FOR OBJECT DECLARATION\")\n",
    "o1=hr('VK','FOUNDER') #object of derived class can initialize data memebers of base class\n",
    "o1.displaydata()\n",
    "\n",
    "\n",
    "\n",
    "        \n",
    "\n"
   ]
  },
  {
   "cell_type": "code",
   "execution_count": 7,
   "id": "6ba1419f",
   "metadata": {},
   "outputs": [
    {
     "name": "stdout",
     "output_type": "stream",
     "text": [
      "NAME: VK\n",
      "HEIGHT: 178.7\n",
      "WEIGHT: 73.5\n"
     ]
    }
   ],
   "source": [
    "#public data members initialization\n",
    "class emp:\n",
    "    def __init__(self,name,height,weight):\n",
    "        self.sname=name # all data members are public by default \n",
    "        self.sheight=height # . is used to initialize public data members\n",
    "        self.sweight=weight\n",
    "    def display(self):\n",
    "        print(\"NAME:\",self.sname)\n",
    "        print(\"HEIGHT:\",self.sheight)\n",
    "        print(\"WEIGHT:\",self.sweight)\n",
    "o1=emp('VK',178.7,73.5)\n",
    "o1.display()"
   ]
  },
  {
   "cell_type": "markdown",
   "id": "673821c5",
   "metadata": {},
   "source": [
    "# NUMPY AGGREGATIONS"
   ]
  },
  {
   "cell_type": "code",
   "execution_count": 1,
   "id": "a80099eb",
   "metadata": {},
   "outputs": [
    {
     "name": "stdout",
     "output_type": "stream",
     "text": [
      "12 1 78\n"
     ]
    }
   ],
   "source": [
    "import numpy as np\n",
    "x=np.array([[1,2,3,4],[5,6,7,8],[9,10,11,12]])\n",
    "print(np.max(x),np.min(x),np.sum(x))"
   ]
  },
  {
   "cell_type": "code",
   "execution_count": 2,
   "id": "09407192",
   "metadata": {},
   "outputs": [
    {
     "name": "stdout",
     "output_type": "stream",
     "text": [
      "[[55 30 95 31]\n",
      " [72 69 29 66]\n",
      " [76 82 63 84]]\n",
      "752\n",
      "sum row-wise: [10 26 42]\n",
      "sum col-wise: [15 18 21 24]\n",
      "max element of each col: [ 9 10 11 12]\n",
      "min element of each col: [1 2 3 4]\n"
     ]
    }
   ],
   "source": [
    "m=np.random.randint(1,100,(3,4))\n",
    "print(m)\n",
    "print(m.sum())\n",
    "print(\"sum row-wise:\",np.sum(x,axis=1))\n",
    "print(\"sum col-wise:\",np.sum(x,axis=0))\n",
    "print(\"max element of each col:\",np.max(x,axis=0))\n",
    "print(\"min element of each col:\",np.min(x,axis=0))\n"
   ]
  },
  {
   "cell_type": "code",
   "execution_count": 3,
   "id": "2d1db355",
   "metadata": {},
   "outputs": [
    {
     "name": "stdout",
     "output_type": "stream",
     "text": [
      "24\n",
      "5.0\n",
      "2.23606797749979\n",
      "5.0\n",
      "3\n",
      "0\n",
      "False\n",
      "True\n",
      "3.0\n"
     ]
    }
   ],
   "source": [
    "import numpy as np\n",
    "print(np.product([[1,2],[3,4]]))\n",
    "print(np.mean([[2,4],[6,8]]))\n",
    "print(np.std([[2,4],[6,8]]))\n",
    "print(np.var([[2,4],[6,8]]))\n",
    "x=np.array([[2,4],[6,8]])\n",
    "print(np.argmax([1,2,3,4]))\n",
    "print(np.argmin([1,2,3,4]))\n",
    "b=np.array([True,True,True,False])\n",
    "print(np.all(b))\n",
    "print(np.any(b))\n",
    "print(np.median([1,2,3,4,5]))"
   ]
  },
  {
   "cell_type": "markdown",
   "id": "768d1f0f",
   "metadata": {},
   "source": [
    "# COMPARISION,MASKS AND BOOLEAN ARRAYS IN NUMPY"
   ]
  },
  {
   "cell_type": "code",
   "execution_count": 4,
   "id": "7eac5b38",
   "metadata": {},
   "outputs": [
    {
     "name": "stdout",
     "output_type": "stream",
     "text": [
      "[ True  True False False False]\n",
      "[False False False  True  True]\n",
      "[ True  True  True False False]\n",
      "[False False  True  True  True]\n",
      "[ True  True False  True  True]\n",
      "[False False  True False False]\n"
     ]
    }
   ],
   "source": [
    "#boolean operations\n",
    "import numpy as np\n",
    "x=np.array([1,2,3,4,5])\n",
    "print(x<3)\n",
    "print(x>3)\n",
    "print(x<=3)\n",
    "print(x>=3)\n",
    "print(x!=3)\n",
    "print(x==3)"
   ]
  },
  {
   "cell_type": "code",
   "execution_count": 5,
   "id": "8dbf25b4",
   "metadata": {},
   "outputs": [
    {
     "data": {
      "text/plain": [
       "array([False,  True, False, False, False])"
      ]
     },
     "execution_count": 5,
     "metadata": {},
     "output_type": "execute_result"
    }
   ],
   "source": [
    "2*x==(x**2)"
   ]
  },
  {
   "cell_type": "code",
   "execution_count": 6,
   "id": "8aea29c9",
   "metadata": {},
   "outputs": [
    {
     "data": {
      "text/plain": [
       "False"
      ]
     },
     "execution_count": 6,
     "metadata": {},
     "output_type": "execute_result"
    }
   ],
   "source": [
    "bool(42 and 0)"
   ]
  },
  {
   "cell_type": "code",
   "execution_count": 7,
   "id": "48d10346",
   "metadata": {},
   "outputs": [],
   "source": [
    "A=np.array([1,0,1,0,1,1],dtype=bool)\n",
    "B=np.array([1,1,1,0,1,0],dtype=bool)"
   ]
  },
  {
   "cell_type": "code",
   "execution_count": 13,
   "id": "152eb3ea",
   "metadata": {},
   "outputs": [
    {
     "data": {
      "text/plain": [
       "array([ True, False,  True, False,  True, False])"
      ]
     },
     "execution_count": 13,
     "metadata": {},
     "output_type": "execute_result"
    }
   ],
   "source": [
    "A&B #and operation"
   ]
  },
  {
   "cell_type": "code",
   "execution_count": 9,
   "id": "18adcefc",
   "metadata": {},
   "outputs": [
    {
     "data": {
      "text/plain": [
       "array([ True,  True,  True, False,  True,  True])"
      ]
     },
     "execution_count": 9,
     "metadata": {},
     "output_type": "execute_result"
    }
   ],
   "source": [
    "A|B #or operation"
   ]
  },
  {
   "cell_type": "code",
   "execution_count": 11,
   "id": "96550b4d",
   "metadata": {},
   "outputs": [
    {
     "data": {
      "text/plain": [
       "array([False,  True, False, False, False,  True])"
      ]
     },
     "execution_count": 11,
     "metadata": {},
     "output_type": "execute_result"
    }
   ],
   "source": [
    "A!=B # not operation"
   ]
  },
  {
   "cell_type": "code",
   "execution_count": 12,
   "id": "5a0e7017",
   "metadata": {},
   "outputs": [
    {
     "data": {
      "text/plain": [
       "array([False,  True, False, False, False,  True])"
      ]
     },
     "execution_count": 12,
     "metadata": {},
     "output_type": "execute_result"
    }
   ],
   "source": [
    "A^B # xor opeartion"
   ]
  },
  {
   "cell_type": "code",
   "execution_count": 14,
   "id": "6da9d8b6",
   "metadata": {},
   "outputs": [
    {
     "data": {
      "text/plain": [
       "False"
      ]
     },
     "execution_count": 14,
     "metadata": {},
     "output_type": "execute_result"
    }
   ],
   "source": [
    "np.all(A) # checks if all values of A are true"
   ]
  },
  {
   "cell_type": "code",
   "execution_count": 16,
   "id": "93fb85b3",
   "metadata": {},
   "outputs": [
    {
     "data": {
      "text/plain": [
       "True"
      ]
     },
     "execution_count": 16,
     "metadata": {},
     "output_type": "execute_result"
    }
   ],
   "source": [
    "np.any(A) # checks if any of the values of A is true"
   ]
  },
  {
   "cell_type": "markdown",
   "id": "5c7b44b5",
   "metadata": {},
   "source": [
    "# EXCEPTION HANDLING"
   ]
  },
  {
   "cell_type": "code",
   "execution_count": 17,
   "id": "15f84465",
   "metadata": {},
   "outputs": [
    {
     "name": "stdout",
     "output_type": "stream",
     "text": [
      "Error due to divided by 0\n",
      "error handling learnt succesfully\n"
     ]
    }
   ],
   "source": [
    "#zero division error\n",
    "def fun(a,b):\n",
    "    try:\n",
    "        c=a+b/(a-b)\n",
    "    except ZeroDivisionError:\n",
    "        print(\"Error due to divided by 0\")\n",
    "        \n",
    "    else:\n",
    "        print(c)\n",
    "    finally:\n",
    "        print(\"error handling learnt succesfully\")\n",
    "fun(1,1)      \n",
    "\n",
    "    \n"
   ]
  },
  {
   "cell_type": "code",
   "execution_count": 6,
   "id": "bde741a4",
   "metadata": {},
   "outputs": [
    {
     "name": "stdout",
     "output_type": "stream",
     "text": [
      "distinction\n"
     ]
    }
   ],
   "source": [
    "cgpa=9.2\n",
    "try:\n",
    "    if(cgpa>8.5):\n",
    "        print(\"distinction\")\n",
    "except SyntaxError:\n",
    "    print(\"syntax error\")\n",
    "\n"
   ]
  },
  {
   "cell_type": "code",
   "execution_count": 11,
   "id": "0bb8882f",
   "metadata": {},
   "outputs": [
    {
     "name": "stdout",
     "output_type": "stream",
     "text": [
      "Second element = 1\n",
      "An error occurred\n"
     ]
    }
   ],
   "source": [
    "list1 = ['x',1, 2, 3,-9.6]\n",
    "try: \n",
    "    print (\"Second element =\",list1[1])\n",
    "    print (\"Sixth element =\",list1[5]) #trying to access out of range element\n",
    "  \n",
    "except:\n",
    "    print (\"An error occurred\")"
   ]
  },
  {
   "cell_type": "code",
   "execution_count": 22,
   "id": "377bd646",
   "metadata": {},
   "outputs": [
    {
     "name": "stdout",
     "output_type": "stream",
     "text": [
      "dividing a/b is 0\n",
      "3.0\n"
     ]
    }
   ],
   "source": [
    "def func1(a , b):\n",
    "    try:\n",
    "        c = ((a+b) / (a-b))\n",
    "    except ZeroDivisionError:\n",
    "        print (\"dividing a/b is 0\")\n",
    "    else:\n",
    "        print (c)  \n",
    "        \n",
    "func1(1,1)\n",
    "func1(2,1)"
   ]
  },
  {
   "cell_type": "code",
   "execution_count": 25,
   "id": "10a33ba8",
   "metadata": {},
   "outputs": [
    {
     "name": "stdout",
     "output_type": "stream",
     "text": [
      "An exception\n"
     ]
    }
   ],
   "source": [
    "try:\n",
    "    raise NameError(\"Hi there\") # Raise Error\n",
    "except NameError:\n",
    "    print (\"An exception\")\n",
    "    \n"
   ]
  },
  {
   "cell_type": "code",
   "execution_count": null,
   "id": "86e2d5e6",
   "metadata": {},
   "outputs": [],
   "source": []
  }
 ],
 "metadata": {
  "kernelspec": {
   "display_name": "Python 3 (ipykernel)",
   "language": "python",
   "name": "python3"
  },
  "language_info": {
   "codemirror_mode": {
    "name": "ipython",
    "version": 3
   },
   "file_extension": ".py",
   "mimetype": "text/x-python",
   "name": "python",
   "nbconvert_exporter": "python",
   "pygments_lexer": "ipython3",
   "version": "3.9.12"
  }
 },
 "nbformat": 4,
 "nbformat_minor": 5
}
